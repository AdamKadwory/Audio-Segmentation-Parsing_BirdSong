{
 "cells": [
  {
   "cell_type": "markdown",
   "metadata": {},
   "source": [
    "## Import the following packages: "
   ]
  },
  {
   "cell_type": "code",
   "execution_count": 2,
   "metadata": {},
   "outputs": [],
   "source": [
    "\n",
    "import numpy  as np    #for numerical computation\n",
    "from glob import glob  #for reading files\n",
    "from scipy.io import loadmat  #for loading .mat files from matlab (loading a,b for the butter filter)\n",
    "\n",
    "\n",
    "from scipy.signal import butter, lfilter, freqz\n",
    "import matplotlib.pyplot as plt                 #visualization  of audio files amplitude, It provides a MATLAB-like way of plotting.\n",
    "                         \n",
    "from math import pi\n",
    "import librosa as lr \n",
    "             \n",
    "from scipy import signal\n",
    "import math \n",
    "from scipy.signal import filtfilt\n",
    "import numpy.ma as ma \n",
    "import numpy as np "
   ]
  },
  {
   "cell_type": "markdown",
   "metadata": {},
   "source": [
    "## set the path of wav. files "
   ]
  },
  {
   "cell_type": "markdown",
   "metadata": {},
   "source": [
    " call the file from the folder (set the path of the folder). use glob to call the wav file load the file [number of file]. Audio variable represent the data of the file, in terms of amplitude and [sfreq] variable represent the Nyquist frequency which is half 1/2 of sampling frequency. "
   ]
  },
  {
   "cell_type": "code",
   "execution_count": 8,
   "metadata": {},
   "outputs": [],
   "source": [
    "pathname = '/2019-09-23_findSong'\n",
    "audio_files = glob('*.wav')\n",
    "audio_array, nyquist_frequency = lr.load('06-00-01-04_auto.wav') \n",
    "\n",
    "# we can create a for loop or a while loop to run all wav. files at the same time. "
   ]
  },
  {
   "cell_type": "markdown",
   "metadata": {},
   "source": [
    "## Preprocessing Data "
   ]
  },
  {
   "cell_type": "markdown",
   "metadata": {},
   "source": [
    "use the butter high-pass filter to remove the noise and unecessary audioable data. variable a, and b are calculated from MATLAB and imported to python to be used as they are more accurate in matlab than python. butter.mat is the file name in MATLAB. zero was added to the vector to make ....."
   ]
  },
  {
   "cell_type": "code",
   "execution_count": null,
   "metadata": {},
   "outputs": [],
   "source": [
    "signaldata = loadmat('butterf.mat')    \n",
    "b = signaldata['b'][0]; a = signaldata['a'][0]\n",
    "#y = lfilter(b, a, audio) # never use it for audio (for neural is not good to use it create a phase shift)\n",
    "audio_filtered = filtfilt(b,a,audio_array)\n",
    "# you should use filtfilt (it is in scipy.signal)\n",
    "\n",
    "# plot the frequency response by showing the critical point. (make sure to import the signal package from scipy)\n",
    "w,h = signal.freqs(b,a)\n",
    "# b, a = signal.butter(5, 100, 'low', analog=True)\n",
    "\n"
   ]
  },
  {
   "cell_type": "code",
   "execution_count": null,
   "metadata": {},
   "outputs": [],
   "source": [
    "#Rectify the data: \n",
    "rectify_data_unfiltered = np.absolute(audio_array)\n",
    "rectify_data_filtered = np.absolute(audio_filtered)"
   ]
  },
  {
   "cell_type": "markdown",
   "metadata": {},
   "source": [
    "## Plot the original unfiltered data and the new filtered data "
   ]
  },
  {
   "cell_type": "code",
   "execution_count": null,
   "metadata": {
    "scrolled": true
   },
   "outputs": [],
   "source": [
    "# The Filtered Audio\n",
    "plt.figure()\n",
    "plt.plot(audio_filtered[0:10**5])\n",
    "plt.ylabel('Amplitude dB/Sample')\n",
    "plt.xlabel('Frequency rad/sample')\n",
    "plt.title('frequency response/Filtered Data')\n",
    "\n",
    "# the Unfiltered Audio\n",
    "plt.figure()\n",
    "plt.plot(audio_array[0:10**5])\n",
    "plt.ylabel('Amplitude dB/Sample')\n",
    "plt.xlabel('Frequency rad/sample')           \n",
    "plt.title('Frequency Response/Unfiltered Data')\n",
    "\n",
    "\n",
    "\n",
    "# The recified Filtered Audio\n",
    "plt.figure()\n",
    "plt.plot(rectify_data_filtered[0:10**5])\n",
    "plt.ylabel('Amplitude dB/Sample')\n",
    "plt.xlabel('Frequency rad/sample')\n",
    "plt.title('frequency response/rectify_data_filtered')\n",
    "\n",
    "# the rectified Unfiltered Audio\n",
    "plt.figure()\n",
    "plt.plot(rectify_data_unfiltered[0:10**5])\n",
    "plt.ylabel('Amplitude dB/Sample')\n",
    "plt.xlabel('Frequency rad/sample')           \n",
    "plt.title('Frequency Response/rectify_data_unfiltered')"
   ]
  },
  {
   "cell_type": "markdown",
   "metadata": {},
   "source": [
    "## Graph The Frequency Response "
   ]
  },
  {
   "cell_type": "markdown",
   "metadata": {},
   "source": [
    "The plotting for the frequency response, showing the critical points of the w,h using the variables a and b from matlab file import. \n"
   ]
  },
  {
   "cell_type": "code",
   "execution_count": null,
   "metadata": {
    "scrolled": false
   },
   "outputs": [],
   "source": [
    "#Note: The cut frequency is equal to 0.5 \n",
    "b = signaldata['b'][0]; a = signaldata['a'][0]\n",
    "w,h = signal.freqs(b,a)\n",
    "plt.semilogx(w, 20 * np.log10(abs(h)))\n",
    "plt.xscale('log')\n",
    "plt.title('Butterworth Filter Frequency Response')\n",
    "plt.xlabel('Frequency [radians / second]')\n",
    "plt.ylabel('Amplitude[dB]')\n",
    "plt.ylim((0,8))\n",
    "plt.xlim((-10,10))\n",
    "plt.margins(0,0.01)\n",
    "plt.grid(which='both',axis='both')\n",
    "plt.axvline(0.2,color ='green') #cutoff frequency\n",
    "plt.show()"
   ]
  },
  {
   "cell_type": "markdown",
   "metadata": {},
   "source": [
    "## Root Mean Square and Threshold "
   ]
  },
  {
   "cell_type": "markdown",
   "metadata": {},
   "source": [
    "Function that determine RMS and can return values:rms,mean,root,square. rms is used to dertmine the Threshold. Find the Threshold of the filtered data: find the RMS and multiply by j which is 3, or 4 or 5 depend. mean is equal to zero create a function that clacualte the RMS "
   ]
  },
  {
   "cell_type": "code",
   "execution_count": null,
   "metadata": {},
   "outputs": [],
   "source": [
    "def RMS_value(rectify_data_filtered):\n",
    "    # intiate the coeffieciants for [square,mean,root]\n",
    "    square = 0.0 \n",
    "    mean = 0.0\n",
    "    root = 0.0 \n",
    "    for i in range (0,len(rectify_data_filtered)):\n",
    "        square += (audio_filtered[i]**2)\n",
    "    mean = square / (float)(len(rectify_data_filtered))\n",
    "    rms = math.sqrt(mean)  \n",
    "    return rms\n",
    "\n",
    "threshold = 2 * RMS_value(rectify_data_filtered)\n",
    "print(threshold)"
   ]
  },
  {
   "cell_type": "markdown",
   "metadata": {},
   "source": [
    "## Plot wav.audio including the threshold "
   ]
  },
  {
   "cell_type": "code",
   "execution_count": null,
   "metadata": {},
   "outputs": [],
   "source": [
    "plt.figure()\n",
    "plt.plot(audio_array[0:10**5])\n",
    "plt.plot(np.linspace(5,len(audio_array[0:10**5]),len(audio_array[0:10**5])),[threshold]*len(audio_array[0:10**5]))\n",
    "plt.ylabel('Amplitude dB/Sample')\n",
    "plt.xlabel('Frequency rad/sample')\n",
    "plt.title('lowpass filter frequency response')\n",
    "\n",
    "plt.figure()\n",
    "plt.plot(audio_filtered[0:100000])\n",
    "plt.plot(np.linspace(5,len(audio_filtered[0:100000]),len(audio_filtered[0:100000])),[threshold]*len(audio_filtered[0:100000]))\n",
    "plt.ylabel('Amplitude dB/Sample')\n",
    "plt.xlabel('Frequency rad/sample')\n",
    "plt.title('filtered freq_response/zoomIN')\n",
    "\n",
    "\n",
    "plt.figure()\n",
    "plt.plot(rectify_data_unfiltered[0:10**5])\n",
    "plt.plot(np.linspace(5,len(rectify_data_unfiltered[0:10**5]),len(rectify_data_unfiltered[0:10**5])),[threshold]*len(rectify_data_unfiltered[0:10**5]))\n",
    "plt.ylabel('Amplitude dB/Sample')\n",
    "plt.xlabel('Frequency rad/sample')\n",
    "plt.title('lowpass filter frequency response')\n",
    "\n",
    "plt.figure()\n",
    "plt.plot(rectify_data_filtered[0:100000])\n",
    "plt.plot(np.linspace(5,len(rectify_data_filtered[0:100000]),len(rectify_data_filtered[0:100000])),[threshold]*len(rectify_data_filtered[0:100000]))\n",
    "plt.ylabel('Amplitude dB/Sample')\n",
    "plt.xlabel('Frequency rad/sample')\n",
    "plt.title('filtered freq_response/zoomIN')"
   ]
  },
  {
   "cell_type": "markdown",
   "metadata": {},
   "source": [
    "# Create an array of 0 and 1 "
   ]
  },
  {
   "cell_type": "code",
   "execution_count": 9,
   "metadata": {},
   "outputs": [],
   "source": [
    "\n",
    "def index_abv_thr(x,th):\n",
    "    idx_abv_th = np.array([0]*len(x))\n",
    "    for i in range(len(x)):\n",
    "        if x[i] >= th:\n",
    "            idx_abv_th[i] = 1\n",
    "    return idx_abv_th\n",
    "\n",
    "bsing_array = index_abv_thr(rectify_data_filtered,threshold)\n",
    "print(bsing_array)\n",
    "plt.figure()\n",
    "num_samples = 100000000\n",
    "plt.scatter(np.linspace(0, len(bsing_array[0:num_samples]), num=len(bsing_array[0:num_samples])), bsing_array[0:num_samples])\n"
   ]
  },
  {
   "cell_type": "code",
   "execution_count": 10,
   "metadata": {},
   "outputs": [],
   "source": [
    "# the array that need to be analyzed is bsing_array\n",
    "\n",
    "start_end_index = []\n",
    "start_indx = None \n",
    "end_indx = None \n",
    "zero_counter = 0\n",
    "num_max_zero = 45000\n",
    "\n",
    "for i in range(len(bsing_array)):\n",
    "    if bsing_array[i] == 1:\n",
    "        if start_indx == None:\n",
    "            start_indx = i\n",
    "        elif zero_counter != 0 or end_indx is not None:\n",
    "            zero_counter = 0\n",
    "            end_indx = None \n",
    "    \n",
    "    if bsing_array[i] == 0:\n",
    "        if start_indx != None:\n",
    "            if zero_counter == 0:\n",
    "                end_indx = i-1\n",
    "                zero_counter += 1\n",
    "            elif zero_counter <= num_max_zero:\n",
    "                zero_counter += 1 \n",
    "            else:\n",
    "                start_end_index.append([start_indx,end_indx])\n",
    "                start_indx = None \n",
    "                end_indx = None \n",
    "                zero_counter =0\n",
    "        if i == len(bsing_array)-1 and start_indx != None:\n",
    "            start_end_index.append([start_indx,i])"
   ]
  },
  {
   "cell_type": "code",
   "execution_count": 11,
   "metadata": {},
   "outputs": [],
   "source": [
    "#seperate the start and end arrays, and find the total sample frequency where sound(song) occured.\n",
    "# then find the period or the total time the bird was singing. \n",
    "\n",
    "start_array = []\n",
    "end_array = []\n",
    "Total_periods = []\n",
    "original_frequency = 30000\n",
    "Time_period_sec = 1/original_frequency\n",
    "\n",
    "for j in range(len(start_end_index)):\n",
    "    start_array.append(start_end_index[j][0])\n",
    "    end_array.append(start_end_index[j][1])\n",
    "    diff_array = end_array[j] - start_array[j]\n",
    "    Total_periods.append(diff_array)\n",
    "    fs_sound = sum(Total_periods)\n",
    "    Time_sound_occur = Time_period_sec * fs_sound\n",
    "\n",
    "#the time period for a sample frequency of 30000\n",
    "print(\"The time period for a sample frequency of 30000 is equal to\\t\",Time_period_sec)\n",
    "\n",
    "#sample frequency where sound occured (song happen)\n",
    "print(\"Sample frequency where sound occured (song happen)tequal to\\t\",fs_sound)\n",
    "#the time period of a sample frequency (fs_sound) which is the freq-that sounds occur in it. \n",
    "\n",
    "#The total time the bird was singing is equal to\\t\n",
    "print(\"The total time the bird was singing is equal to\\t  \",Time_sound_occur)"
   ]
  },
  {
   "cell_type": "code",
   "execution_count": null,
   "metadata": {},
   "outputs": [],
   "source": [
    "#save the informations as a .txt file \n",
    "save_periods = open('/Users/ahmedabdalsattar/Desktop/Automated_Songs/sounds.txt', 'w')\n",
    "save_periods.write('Time period for a 30000 sample_freq = ')\n",
    "save_periods.write(str(Time_period_sec))\n",
    "save_periods.write('\\n')\n",
    "save_periods.write('Total sample_freq where song occurred = ')\n",
    "save_periods.write(str(fs_sound))\n",
    "save_periods.write('\\n')\n",
    "save_periods.write('Total time bird was singing = ')\n",
    "save_periods.write(str(Time_sound_occur))\n",
    "save_periods.write('\\n')\n",
    "save_periods.close()"
   ]
  },
  {
   "cell_type": "code",
   "execution_count": 138,
   "metadata": {
    "scrolled": true
   },
   "outputs": [],
   "source": [
    "# #3000 samples per second 4500 sample per 1.5 second \n",
    "# num_zeros_th = 4500 # seconds * sampling rate\n",
    "# # OUTPUT: Array[N motifs x Start_sample x End_sample]\n",
    "# motif_times = []\n",
    "# start_idx = None\n",
    "# end_idx = None\n",
    "# zero_counter = 0\n",
    "\n",
    "\n",
    "# for i in range(len(bsing_array)):\n",
    "    \n",
    "# #when start-indx == None \n",
    "#     if bsing_array[i] == 1:  # if above threshold\n",
    "#         #zero_counter = 0  #counter that counts elements of 1\n",
    "        \n",
    "#         if start_idx == None:\n",
    "#             zero_counter = 0 \n",
    "#             start_idx = i  \n",
    "            \n",
    "            \n",
    "            \n",
    "#             zero_counter = zero_counter + 1 \n",
    "            \n",
    "# #when start-indx != None \n",
    "\n",
    "# #             if start_idx != None:\n",
    "# #                 end_idx = len(bsing_array[i])\n",
    "# #                 motif_times.append(start_idx, end_idx)\n",
    "                \n",
    "                \n",
    "                \n",
    "    "
   ]
  },
  {
   "cell_type": "code",
   "execution_count": 1,
   "metadata": {},
   "outputs": [],
   "source": [
    "# #3000 samples per second 4500 sample per 1.5 second \n",
    "# num_zeros_th = 4500 # seconds * sampling rate\n",
    "# # OUTPUT: Array[N motifs x Start_sample x End_sample]\n",
    "# motif_times = []\n",
    "# start_idx = None\n",
    "# end_idx = None\n",
    "# zero_counter = 0\n",
    "\n",
    "# for i in range(len(bsing_array)):\n",
    "    \n",
    "# #when start-indx == None \n",
    "#     if bsing_array[i] == 1:  # if above threshold\n",
    "#         zero_counter = 0  #counter that counts elements of 1 \n",
    "#         if start_idx == None: #if just started counting elements \n",
    "#             start_idx = i  # Start of current event\n",
    "            \n",
    "# #when start-indx != None \n",
    "\n",
    "# #             if start_idx != None:\n",
    "# #                 end_idx = len(bsing_array[i])\n",
    "# #                 motif_times.append(start_idx, end_idx)\n",
    "                        \n",
    "#     if bsing_array[i] == 0 and start_idx != None:  # if below threshold\n",
    "#         if zero_counter == 0:\n",
    "#             end_idx = i  \n",
    "#         zero_counter += 1\n",
    "\n",
    "#         if zero_counter == num_zeros_th:\n",
    "#             print(motif_times.append([start_idx, end_idx]))\n",
    "#             start_idx = None\n",
    "#             end_idx = None\n",
    "            \n",
    "# if start_idx != None:\n",
    "#     end_idx = len(bsing_array)\n",
    "#     motif_times.append(start_idx, end_idx)"
   ]
  },
  {
   "cell_type": "code",
   "execution_count": 13,
   "metadata": {},
   "outputs": [],
   "source": [
    "# #Join the periods of sounds \n",
    "\n",
    "# y_above_th = np.zeros((1, len(y)))\n",
    "# # we have y and y_above. \n",
    "# # y have the array of filtered data \n",
    "# # y_above is an imaginary array made from zeros. \n",
    "\n",
    "\n",
    "\n",
    "# def stimulate(y_above_th):\n",
    "#     for i in range (1,len(y)):\n",
    "#         if y[i] >= threshold:\n",
    "#             y_above_th = 1 \n",
    "\n",
    "#         return y_above_th\n",
    "\n",
    "# # plt.plot(stimuate(y)[0:100000])\n",
    "# # plt.plot(np.linspace(5,len(y[0:100000]),len(y[0:100000])),[threshold]*len(y[0:100000]))\n",
    "\n"
   ]
  },
  {
   "cell_type": "code",
   "execution_count": null,
   "metadata": {},
   "outputs": [],
   "source": [
    "# \"\"\"A while loop that create seperate the 1 and 0 in individual arrays. \n",
    "# This code can illustrate the one and zero in seperate arrays\"\"\"\n",
    "\n",
    "\n",
    "# def once_num (number):\n",
    "#     i = 0 \n",
    "#     while i < len(number):\n",
    "#         if \n",
    "#         n = number[i]\n",
    "#         startIndex = i \n",
    "#         while i < len(numbe r) - 1 and number[i] == number[i+1]:\n",
    "#             if number[i] == 1:\n",
    "#                 motif.append()\n",
    "#             i = i + 1\n",
    "#         endIndex = i\n",
    "#         print(\"{0}>>{1}\".format(n,[startIndex,endIndex]))\n",
    "#         i = i + 1\n",
    "# once_num(y_above_th)\n",
    "\n",
    "# \"in order to check the result, plot both\""
   ]
  },
  {
   "cell_type": "code",
   "execution_count": null,
   "metadata": {},
   "outputs": [],
   "source": [
    "# \"\"\"this code is supposed to be for finding the height and width of the peaks\n",
    "# however, it is not giving the result that is expected\"\"\"\n",
    "\n",
    "# # one way is to find the peak values as well as the width of each stimulus. \n",
    "# from scipy.signal import chirp, find_peaks, peak_widths\n",
    "# import matplotlib.pyplot as plt \n",
    "\n",
    "# peaks, _ = find_peaks(y[0:100])\n",
    "# result_half = peak_widths(y, peaks, rel_height=0.5)\n",
    "\n",
    "\n",
    "# result_full = peak_widths(y,peaks,rel_height=1)\n",
    "# result_full[0]\n",
    "# result_half[0]\n",
    "\n",
    "# plt.plot(y[0:100])\n",
    "# plt.plot(peaks[0:100], y[peaks][0:100],\"x\")\n",
    "# # plt.hlines(*result_half[1:], color=\"C2\")\n",
    "# # plt.hlines(*result_full[1:],color= \"c3\")\n",
    "# plt.show()"
   ]
  }
 ],
 "metadata": {
  "kernelspec": {
   "display_name": "Python 3",
   "language": "python",
   "name": "python3"
  },
  "language_info": {
   "codemirror_mode": {
    "name": "ipython",
    "version": 3
   },
   "file_extension": ".py",
   "mimetype": "text/x-python",
   "name": "python",
   "nbconvert_exporter": "python",
   "pygments_lexer": "ipython3",
   "version": "3.8.3"
  }
 },
 "nbformat": 4,
 "nbformat_minor": 2
}
