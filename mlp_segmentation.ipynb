{
 "cells": [
  {
   "cell_type": "markdown",
   "metadata": {},
   "source": [
    "# Multi-layer perceptron classifier\n",
    "### Regions of voice activity labelled as 1 (labels 1-7); otherwise 0 (labels 8,C,I,X)\n",
    "### Following code is trained and tested on only z007"
   ]
  },
  {
   "cell_type": "code",
   "execution_count": 1,
   "metadata": {},
   "outputs": [
    {
     "name": "stderr",
     "output_type": "stream",
     "text": [
      "Using TensorFlow backend.\n"
     ]
    }
   ],
   "source": [
    "import pickle as pkl\n",
    "from config import path_to_save, spectrogram_specs, mlp_specs\n",
    "import os\n",
    "import numpy as np\n",
    "import random\n",
    "import librosa\n",
    "from keras.utils import to_categorical\n",
    "import matplotlib.pyplot as plt\n"
   ]
  },
  {
   "cell_type": "code",
   "execution_count": 2,
   "metadata": {},
   "outputs": [],
   "source": [
    "bird_id,days = pkl.load(open(path_to_save+\"zf_recordings.pkl\",\"rb\"))"
   ]
  },
  {
   "cell_type": "code",
   "execution_count": 3,
   "metadata": {},
   "outputs": [
    {
     "name": "stdout",
     "output_type": "stream",
     "text": [
      "Bird: z007\n",
      "Day: day-2016-09-09 , No.of chunks: 5\n",
      "Day: day-2016-09-10 , No.of chunks: 14\n",
      "Day: day-2016-09-11 , No.of chunks: 20\n",
      "Day: day-2016-09-13 , No.of chunks: 5\n",
      "Total no. of spectrograms: 44\n",
      "Total no. of mel-spectrograms: 44\n",
      "Total no. of labels: 44\n"
     ]
    }
   ],
   "source": [
    "bird_ind = 0 #z007\n",
    "print(\"Bird:\",bird_id[bird_ind])\n",
    "\n",
    "#load data from all the recordings for a bird\n",
    "dirName = path_to_save+\"spectrograms/\"+bird_id[bird_ind]+\"/\"\n",
    "folders = os.listdir(dirName)\n",
    "\n",
    "spectrograms = []\n",
    "mel_spectrograms = []\n",
    "labels = []\n",
    "for i in folders:\n",
    "    s = pkl.load(open(dirName+i+\"/spectrograms.pkl\",\"rb\"))\n",
    "    print(\"Day:\",i,\", No.of chunks:\",len(s))\n",
    "    spectrograms.extend(s)\n",
    "    mel_spectrograms.extend(pkl.load(open(dirName+i+\"/mel_spectrograms.pkl\",\"rb\")))\n",
    "    labels.extend(pkl.load(open(dirName+i+\"/labels.pkl\",\"rb\")))\n",
    "    \n",
    "print(\"Total no. of spectrograms:\",len(spectrograms))\n",
    "print(\"Total no. of mel-spectrograms:\",len(mel_spectrograms))\n",
    "print(\"Total no. of labels:\",len(labels))\n",
    "    "
   ]
  },
  {
   "cell_type": "markdown",
   "metadata": {},
   "source": [
    "# Load config file and set input size for MLP"
   ]
  },
  {
   "cell_type": "code",
   "execution_count": 4,
   "metadata": {},
   "outputs": [
    {
     "name": "stdout",
     "output_type": "stream",
     "text": [
      "Input type: mel_spectrogram\n",
      "Context window (ms): 200\n",
      "Context window (frames): 6000.0\n",
      "Context window in spectrogram space (frames): 94\n",
      "Mel-Spectrogram length (no. of freq bins): 32\n"
     ]
    }
   ],
   "source": [
    "fft_center = spectrogram_specs[\"fft_center\"]\n",
    "window = spectrogram_specs[\"window\"]\n",
    "stride = spectrogram_specs[\"stride\"]\n",
    "\n",
    "if fft_center:\n",
    "    pad = window/2\n",
    "else:\n",
    "    pad = 0\n",
    "    \n",
    "#input type - spectrogram or mel-spectrogram\n",
    "input_type = mlp_specs[\"input_type\"]\n",
    "print(\"Input type:\",input_type)\n",
    "\n",
    "#time and equivalent no. of frames in audio space\n",
    "input_window = mlp_specs[\"input_window\"]\n",
    "n_frames = input_window*spectrogram_specs[\"sr\"]*1e-3\n",
    "print(\"Context window (ms):\",input_window)\n",
    "print(\"Context window (frames):\",n_frames)\n",
    "\n",
    "#no. of frames in spectrogram space\n",
    "avg_window = int((n_frames - window + (2*pad))/stride + 1)\n",
    "print(\"Context window in spectrogram space (frames):\",avg_window)\n",
    "\n",
    "#input shape\n",
    "if input_type == \"spectrogram\":\n",
    "    print(\"Spectrogram length (no. of freq bins):\",len(spectrograms[0]))\n",
    "    input_shape = avg_window*len(spectrograms[0])\n",
    "elif input_type == \"mel_spectrogram\":\n",
    "    print(\"Mel-Spectrogram length (no. of freq bins):\",len(mel_spectrograms[0]))\n",
    "    input_shape = avg_window*len(mel_spectrograms[0])\n",
    "else:\n",
    "    print(\"Invalid input type\")"
   ]
  },
  {
   "cell_type": "markdown",
   "metadata": {},
   "source": [
    "# Dataset creation with equal data points per class\n",
    "### Equal distribution obtained by random sampling of data points\n",
    "#### Remove \"index%sample_stride == 0\" in line 8 and 9 to consider all samples"
   ]
  },
  {
   "cell_type": "code",
   "execution_count": 5,
   "metadata": {},
   "outputs": [
    {
     "name": "stdout",
     "output_type": "stream",
     "text": [
      "Chunk: 0\n",
      "0: 279 1: 279\n",
      "Chunk: 1\n",
      "0: 69 1: 69\n",
      "Chunk: 2\n",
      "0: 69 1: 69\n",
      "Chunk: 3\n",
      "0: 105 1: 105\n",
      "Chunk: 4\n",
      "0: 321 1: 321\n",
      "Chunk: 5\n",
      "0: 167 1: 167\n",
      "Chunk: 6\n",
      "0: 277 1: 277\n",
      "Chunk: 7\n",
      "0: 267 1: 267\n",
      "Chunk: 8\n",
      "0: 103 1: 103\n",
      "Chunk: 9\n",
      "0: 170 1: 170\n",
      "Chunk: 10\n",
      "0: 107 1: 107\n",
      "Chunk: 11\n",
      "0: 237 1: 237\n",
      "Chunk: 12\n",
      "0: 149 1: 149\n",
      "Chunk: 13\n",
      "0: 275 1: 275\n",
      "Chunk: 14\n",
      "0: 104 1: 104\n",
      "Chunk: 15\n",
      "0: 103 1: 103\n",
      "Chunk: 16\n",
      "0: 67 1: 67\n",
      "Chunk: 17\n",
      "0: 169 1: 169\n",
      "Chunk: 18\n",
      "0: 240 1: 240\n",
      "Chunk: 19\n",
      "0: 240 1: 240\n",
      "Chunk: 20\n",
      "0: 173 1: 173\n",
      "Chunk: 21\n",
      "0: 305 1: 305\n",
      "Chunk: 22\n",
      "0: 174 1: 174\n",
      "Chunk: 23\n",
      "0: 174 1: 174\n",
      "Chunk: 24\n",
      "0: 109 1: 109\n",
      "Chunk: 25\n",
      "0: 206 1: 206\n",
      "Chunk: 26\n",
      "0: 240 1: 240\n",
      "Chunk: 27\n",
      "0: 179 1: 179\n",
      "Chunk: 28\n",
      "0: 67 1: 67\n",
      "Chunk: 29\n",
      "0: 132 1: 132\n",
      "Chunk: 30\n",
      "0: 148 1: 148\n",
      "Chunk: 31\n",
      "0: 174 1: 174\n",
      "Chunk: 32\n",
      "0: 173 1: 173\n",
      "Chunk: 33\n",
      "0: 174 1: 174\n",
      "Chunk: 34\n",
      "0: 142 1: 142\n",
      "Chunk: 35\n",
      "0: 172 1: 172\n",
      "Chunk: 36\n",
      "0: 209 1: 209\n",
      "Chunk: 37\n",
      "0: 106 1: 106\n",
      "Chunk: 38\n",
      "0: 180 1: 180\n",
      "Chunk: 39\n",
      "0: 178 1: 178\n",
      "Chunk: 40\n",
      "0: 202 1: 202\n",
      "Chunk: 41\n",
      "0: 172 1: 172\n",
      "Chunk: 42\n",
      "0: 133 1: 133\n",
      "Chunk: 43\n",
      "0: 140 1: 140\n",
      "X_shape: (7580, 3008) (7580, 3008)\n"
     ]
    }
   ],
   "source": [
    "x_0 = np.empty((0,input_shape))\n",
    "x_1 = np.empty((0,input_shape))\n",
    "y_org = []\n",
    "sample_stride = 10\n",
    "for i in range(len(spectrograms)):\n",
    "    print(\"Chunk:\",i)\n",
    "    ind_1 = [index for index, element in enumerate(labels[i][\"frame_labels\"]) \n",
    "             if element not in [8,'C','I','X'] and index > avg_window and index%sample_stride == 0]\n",
    "    ind_0 = [index for index, element in enumerate(labels[i][\"frame_labels\"]) \n",
    "             if element in [8,'C','I','X'] and index > avg_window and index%sample_stride == 0]\n",
    "    ind_0 = random.sample(ind_0,len(ind_1))\n",
    "    print(\"0:\",len(ind_0),\"1:\",len(ind_1))\n",
    "\n",
    "    #------------------------------------------------------------\n",
    "    #normalize to dB at the chunk level \n",
    "    if input_type == \"spectrogram\":\n",
    "        S = librosa.power_to_db(spectrograms[i])\n",
    "    elif input_type == \"mel_spectrogram\":\n",
    "        S = librosa.power_to_db(mel_spectrograms[i])\n",
    "    else:\n",
    "        print(\"Invalid input type\")\n",
    "    #------------------------------------------------------------\n",
    "\n",
    "    for j in ind_0:\n",
    "        x_0 = np.append(x_0,np.reshape(S[:,j-avg_window:j],(1,avg_window*np.shape(S)[0])),axis=0)\n",
    "    for j in ind_1:\n",
    "        x_1 = np.append(x_1,np.reshape(S[:,j-avg_window:j],(1,avg_window*np.shape(S)[0])),axis=0)\n",
    "\n",
    "print(\"X_shape:\",np.shape(x_0),np.shape(x_1))\n"
   ]
  },
  {
   "cell_type": "markdown",
   "metadata": {},
   "source": [
    "# Train, Val and Test split"
   ]
  },
  {
   "cell_type": "code",
   "execution_count": 6,
   "metadata": {},
   "outputs": [],
   "source": [
    "def split_data(x_0,x_1,p_train,p_val,p_test,mode):\n",
    "    if mode == \"train\":\n",
    "        start_ind = 0\n",
    "        end_ind = int(p_train*np.shape(x_0)[0])\n",
    "        p = p_train\n",
    "    elif mode == \"val\":\n",
    "        start_ind = int(p_train*np.shape(x_0)[0])\n",
    "        end_ind = int(p_train*np.shape(x_0)[0])+int(p_val*np.shape(x_0)[0])\n",
    "        p = p_val\n",
    "    else:\n",
    "        start_ind = np.shape(x_0)[0] - int(p_test*np.shape(x_0)[0])\n",
    "        end_ind = np.shape(x_0)[0]\n",
    "        p = p_test\n",
    "        \n",
    "    print(\"Mode:\",mode)\n",
    "    print(\"per class, start_ind:\",start_ind,\"end_ind:\",end_ind)  \n",
    "    \n",
    "    x = np.append(x_0[start_ind:end_ind,:],x_1[start_ind:end_ind,:],axis=0)\n",
    "    y = to_categorical(np.append([0]*int(p*np.shape(x_0)[0]),[1]*int(p*np.shape(x_1)[0]),axis=0))\n",
    "    \n",
    "    print(\"X_shape:\",np.shape(x))\n",
    "    print(\"Y_shape:\",np.shape(y))\n",
    "    \n",
    "    c = list(zip(x, y))\n",
    "    random.shuffle(c)\n",
    "    x,y= zip(*c)\n",
    "    return np.array(x), np.array(y)"
   ]
  },
  {
   "cell_type": "code",
   "execution_count": 7,
   "metadata": {},
   "outputs": [
    {
     "name": "stdout",
     "output_type": "stream",
     "text": [
      "Mode: train\n",
      "per class, start_ind: 0 end_ind: 4548\n",
      "X_shape: (9096, 3008)\n",
      "Y_shape: (9096, 2)\n",
      "Mode: val\n",
      "per class, start_ind: 4548 end_ind: 6064\n",
      "X_shape: (3032, 3008)\n",
      "Y_shape: (3032, 2)\n",
      "Mode: val\n",
      "per class, start_ind: 4548 end_ind: 6064\n",
      "X_shape: (3032, 3008)\n",
      "Y_shape: (3032, 2)\n"
     ]
    }
   ],
   "source": [
    "#percentage train, val, test\n",
    "p_train = mlp_specs[\"p_train\"]\n",
    "p_val = mlp_specs[\"p_val\"]\n",
    "p_test = mlp_specs[\"p_test\"]\n",
    "\n",
    "x_train,y_train = split_data(x_0,x_1,p_train,p_val,p_test,\"train\")\n",
    "x_val,y_val = split_data(x_0,x_1,p_train,p_val,p_test,\"val\")\n",
    "x_test,y_test = split_data(x_0,x_1,p_train,p_val,p_test,\"val\")"
   ]
  },
  {
   "cell_type": "markdown",
   "metadata": {},
   "source": [
    "# Normalization"
   ]
  },
  {
   "cell_type": "code",
   "execution_count": 8,
   "metadata": {},
   "outputs": [
    {
     "name": "stdout",
     "output_type": "stream",
     "text": [
      "Mu shape: (3008,) Sigma shape: (3008,)\n"
     ]
    }
   ],
   "source": [
    "mu = np.mean(x_train,axis=0)\n",
    "sigma = np.std(x_train,axis=0)\n",
    "print(\"Mu shape:\",np.shape(mu),\"Sigma shape:\",np.shape(sigma))\n",
    "\n",
    "def normalize(x,mu,sigma):\n",
    "    x = (x-mu)/sigma\n",
    "    return x\n",
    "\n",
    "x_train = normalize(x_train,mu,sigma)\n",
    "x_val = normalize(x_val,mu,sigma)\n",
    "x_test = normalize(x_test,mu,sigma)\n"
   ]
  },
  {
   "cell_type": "markdown",
   "metadata": {},
   "source": [
    "# Model"
   ]
  },
  {
   "cell_type": "code",
   "execution_count": 9,
   "metadata": {},
   "outputs": [],
   "source": [
    "from keras import Model\n",
    "from keras.layers import Input, Dense\n",
    "from keras.callbacks import EarlyStopping, ModelCheckpoint\n",
    "from keras.models import load_model\n",
    "from sklearn.metrics import roc_curve\n",
    "from sklearn.metrics import auc"
   ]
  },
  {
   "cell_type": "code",
   "execution_count": 10,
   "metadata": {},
   "outputs": [
    {
     "name": "stdout",
     "output_type": "stream",
     "text": [
      "Model: \"model_1\"\n",
      "_________________________________________________________________\n",
      "Layer (type)                 Output Shape              Param #   \n",
      "=================================================================\n",
      "input_1 (InputLayer)         (None, 3008)              0         \n",
      "_________________________________________________________________\n",
      "dense_1 (Dense)              (None, 64)                192576    \n",
      "_________________________________________________________________\n",
      "dense_2 (Dense)              (None, 1)                 65        \n",
      "=================================================================\n",
      "Total params: 192,641\n",
      "Trainable params: 192,641\n",
      "Non-trainable params: 0\n",
      "_________________________________________________________________\n"
     ]
    }
   ],
   "source": [
    "#model architecture\n",
    "input = Input(shape=(input_shape,))\n",
    "dense1 = Dense(64, activation = \"relu\")(input)\n",
    "output = Dense(1, activation = \"sigmoid\")(dense1)\n",
    "\n",
    "model = Model(input,output)\n",
    "model.summary()\n",
    "\n",
    "model.compile(optimizer = \"adam\", loss = \"binary_crossentropy\", metrics = [\"accuracy\"])\n"
   ]
  },
  {
   "cell_type": "code",
   "execution_count": 11,
   "metadata": {},
   "outputs": [
    {
     "name": "stdout",
     "output_type": "stream",
     "text": [
      "/home/aparna/mlp/mel_spectrogram_window_200\n"
     ]
    }
   ],
   "source": [
    "#checkpoint and earlystopping\n",
    "model_path = mlp_specs[\"path_to_save\"]\n",
    "model_name = input_type + \"_window_\" + str(input_window)\n",
    "print(model_path+model_name)\n",
    "\n",
    "if not os.path.exists(model_path):\n",
    "    os.mkdir(model_path)\n",
    "    \n",
    "checkpoint = ModelCheckpoint(\n",
    "    model_path+model_name+\"_model.h5\",\n",
    "    monitor=\"val_loss\",\n",
    "    verbose=0,\n",
    "    save_best_only=True,\n",
    "    save_weights_only=False,\n",
    "    mode=\"auto\")\n",
    "\n",
    "earlystop = EarlyStopping(\n",
    "    monitor=\"val_loss\",\n",
    "    min_delta=0.001,\n",
    "    patience=6,\n",
    "    verbose=0,\n",
    "    mode=\"auto\",\n",
    "    baseline=None,\n",
    "    restore_best_weights=False,\n",
    ")"
   ]
  },
  {
   "cell_type": "code",
   "execution_count": 12,
   "metadata": {},
   "outputs": [
    {
     "name": "stdout",
     "output_type": "stream",
     "text": [
      "Train on 9096 samples, validate on 3032 samples\n",
      "Epoch 1/100\n",
      "9096/9096 [==============================] - 1s 74us/step - loss: 0.1850 - accuracy: 0.9540 - val_loss: 0.2070 - val_accuracy: 0.9324\n",
      "Epoch 2/100\n",
      "9096/9096 [==============================] - 1s 67us/step - loss: 0.0681 - accuracy: 0.9779 - val_loss: 0.6503 - val_accuracy: 0.8318\n",
      "Epoch 3/100\n",
      "9096/9096 [==============================] - 1s 58us/step - loss: 0.1020 - accuracy: 0.9760 - val_loss: 0.1138 - val_accuracy: 0.9657\n",
      "Epoch 4/100\n",
      "9096/9096 [==============================] - 1s 65us/step - loss: 0.0357 - accuracy: 0.9868 - val_loss: 0.0937 - val_accuracy: 0.9743\n",
      "Epoch 5/100\n",
      "9096/9096 [==============================] - 1s 65us/step - loss: 0.0331 - accuracy: 0.9897 - val_loss: 0.2458 - val_accuracy: 0.9522\n",
      "Epoch 6/100\n",
      "9096/9096 [==============================] - 1s 66us/step - loss: 0.0388 - accuracy: 0.9888 - val_loss: 0.2227 - val_accuracy: 0.9456\n",
      "Epoch 7/100\n",
      "9096/9096 [==============================] - 1s 63us/step - loss: 0.0197 - accuracy: 0.9947 - val_loss: 0.1294 - val_accuracy: 0.9660\n",
      "Epoch 8/100\n",
      "9096/9096 [==============================] - 1s 59us/step - loss: 0.0258 - accuracy: 0.9925 - val_loss: 0.0913 - val_accuracy: 0.9743\n",
      "Epoch 9/100\n",
      "9096/9096 [==============================] - 1s 59us/step - loss: 0.0152 - accuracy: 0.9957 - val_loss: 0.1089 - val_accuracy: 0.9720\n",
      "Epoch 10/100\n",
      "9096/9096 [==============================] - 1s 59us/step - loss: 0.0124 - accuracy: 0.9964 - val_loss: 0.1465 - val_accuracy: 0.9667\n",
      "Epoch 11/100\n",
      "9096/9096 [==============================] - 1s 59us/step - loss: 0.0222 - accuracy: 0.9931 - val_loss: 0.0980 - val_accuracy: 0.9789\n",
      "Epoch 12/100\n",
      "9096/9096 [==============================] - 1s 60us/step - loss: 0.0119 - accuracy: 0.9953 - val_loss: 0.0941 - val_accuracy: 0.9789\n",
      "Epoch 13/100\n",
      "9096/9096 [==============================] - 1s 65us/step - loss: 0.0089 - accuracy: 0.9970 - val_loss: 0.1661 - val_accuracy: 0.9650\n",
      "Epoch 14/100\n",
      "9096/9096 [==============================] - 1s 67us/step - loss: 0.0118 - accuracy: 0.9963 - val_loss: 0.2650 - val_accuracy: 0.9538\n"
     ]
    }
   ],
   "source": [
    "#train model, save model and history\n",
    "history = model.fit(x_train,np.argmax(y_train,axis=1),\n",
    "         validation_data = (x_val,np.argmax(y_val,axis=1)),\n",
    "         batch_size = 32,\n",
    "         epochs = 100,\n",
    "         callbacks = [earlystop,checkpoint])\n",
    "\n",
    "pkl.dump(history.history,open(model_path+model_name+\"_history.pkl\",\"wb\"))"
   ]
  },
  {
   "cell_type": "markdown",
   "metadata": {},
   "source": [
    "# Testing"
   ]
  },
  {
   "cell_type": "code",
   "execution_count": 13,
   "metadata": {},
   "outputs": [
    {
     "data": {
      "image/png": "[encoded data removed]",
      "text/plain": [
       "<Figure size 360x360 with 1 Axes>"
      ]
     },
     "metadata": {
      "needs_background": "light"
     },
     "output_type": "display_data"
    }
   ],
   "source": [
    "model = load_model(model_path+model_name+\"_model.h5\")\n",
    "\n",
    "y_pred= model.predict(x_test).ravel()\n",
    "fpr, tpr, threshold = roc_curve(np.argmax(y_test, axis = 1), y_pred)\n",
    "plt.figure(figsize=(5,5))\n",
    "plt.plot([0, 1], [0, 1], 'k--')\n",
    "plt.plot(fpr, tpr,label=\"AUC = {:.3f}\".format(auc(fpr,tpr)))\n",
    "plt.xlabel('fpr')\n",
    "plt.ylabel('tpr')\n",
    "plt.title(model_name)\n",
    "plt.legend()\n",
    "plt.show()\n"
   ]
  }
 ],
 "metadata": {
  "kernelspec": {
   "display_name": "Python 3",
   "language": "python",
   "name": "python3"
  },
  "language_info": {
   "codemirror_mode": {
    "name": "ipython",
    "version": 3
   },
   "file_extension": ".py",
   "mimetype": "text/x-python",
   "name": "python",
   "nbconvert_exporter": "python",
   "pygments_lexer": "ipython3",
   "version": "3.7.3"
  }
 },
 "nbformat": 4,
 "nbformat_minor": 2
}
