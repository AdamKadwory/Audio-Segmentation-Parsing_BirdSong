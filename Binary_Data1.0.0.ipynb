{
 "cells": [
  {
   "cell_type": "code",
   "execution_count": null,
   "metadata": {},
   "outputs": [],
   "source": [
    "\n",
    "once_indx  = []\n",
    "zero_indx  = []\n",
    "Total_indx = []\n",
    "zero_counter = 0\n",
    "max_num_zeros = 5\n",
    "array = [1,1,1,0,0,0,0,0,0,0,1,1,1,1,1,1,1,1,0,0,1,1,0,0,0,0,0,1,1,1]\n",
    "\n",
    "for i in range (len(array)):\n",
    "    \n",
    "    if array[i] == 1:\n",
    "#    x    if once_indx == None:\n",
    "            once_indx.append(i)\n",
    "            \n",
    "\n",
    "    else:\n",
    "        if zero_counter == max_num_zeros:\n",
    "            once_indx.append(i)\n",
    "            once_indx\n",
    "        \n",
    "        else:\n",
    "            zero_counter = 0\n",
    "\n",
    "        zero_counter = zero_counter + 1\n",
    "        print(once_indx)\n",
    "\n",
    "\n",
    "\n",
    "\n",
    "\n",
    "##        if once == None:\n",
    "##        \n",
    "##            \n",
    "##            \n",
    "##        if once != None:\n",
    "##    if array[i] == 0:\n",
    "##        zero_counter = 0\n",
    "##        if zero_counter <= num_zeros:\n",
    "##            once2 = i\n",
    "##            print([once1]+[once2])\n",
    "##        else:\n",
    "##            once1 == None\n",
    "##            once2 == None \n",
    "##            "
   ]
  }
 ],
 "metadata": {
  "kernelspec": {
   "display_name": "Python 3",
   "language": "python",
   "name": "python3"
  },
  "language_info": {
   "codemirror_mode": {
    "name": "ipython",
    "version": 3
   },
   "file_extension": ".py",
   "mimetype": "text/x-python",
   "name": "python",
   "nbconvert_exporter": "python",
   "pygments_lexer": "ipython3",
   "version": "3.7.4"
  }
 },
 "nbformat": 4,
 "nbformat_minor": 2
}
